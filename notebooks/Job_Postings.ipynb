{
 "cells": [
  {
   "cell_type": "markdown",
   "metadata": {},
   "source": [
    "# Task 1–Load Job Posting HTML documents and extract content into Pandas DataFrame\n",
    "From LiveProject \"Decoding Data Science Postings to Improve Your Resume\", Section 1.2."
   ]
  },
  {
   "cell_type": "markdown",
   "metadata": {},
   "source": [
    "## Imports\n",
    "Import libraries and apply notebook settings."
   ]
  },
  {
   "cell_type": "code",
   "execution_count": 4,
   "metadata": {
    "ExecuteTime": {
     "end_time": "2020-06-17T19:32:49.412069Z",
     "start_time": "2020-06-17T19:32:47.120747Z"
    }
   },
   "outputs": [],
   "source": [
    "# Data manipulation\n",
    "import pandas as pd\n",
    "import numpy as np\n",
    "\n",
    "# Options for pandas\n",
    "pd.options.display.max_columns = 50\n",
    "pd.options.display.max_rows = 50\n",
    "\n",
    "# Display all cell outputs\n",
    "from IPython.core.interactiveshell import InteractiveShell\n",
    "InteractiveShell.ast_node_interactivity = 'all'\n",
    "\n",
    "from IPython import get_ipython\n",
    "ipython = get_ipython()\n",
    "\n",
    "# autoreload extension\n",
    "if 'autoreload' not in ipython.extension_manager.loaded:\n",
    "    %load_ext autoreload\n",
    "\n",
    "%autoreload 2\n",
    "\n",
    "# Performance metrics\n",
    "import time\n",
    "from tqdm import tqdm\n",
    "\n",
    "# Soup prep\n",
    "from bs4 import BeautifulSoup\n",
    "\n",
    "# File serialization\n",
    "import pickle"
   ]
  },
  {
   "cell_type": "code",
   "execution_count": 5,
   "metadata": {
    "ExecuteTime": {
     "end_time": "2020-06-17T19:32:51.932093Z",
     "start_time": "2020-06-17T19:32:51.908433Z"
    }
   },
   "outputs": [],
   "source": [
    "# Project file imports, exports\n",
    "import os\n",
    "# Create an output folder.\n",
    "# [REF:How can I safely create a nested directory](https://stackoverflow.com/a/14364249)\n",
    "#   > `pathlib.Path.mkdir` as used above recursively creates the directory \n",
    "#      and does not raise an exception if the directory already exists. \n",
    "#      If you don't need or want the parents to be created, skip the parents argument.\n",
    "import pathlib\n",
    "# Baseline\n",
    "prj_home = pathlib.Path('..')\n",
    "prj_home_data_dir = os.path.join(prj_home, 'data/html_job_postings')\n",
    "prj_home_output_dir = os.path.join(prj_home, 'data/extract')"
   ]
  },
  {
   "cell_type": "markdown",
   "metadata": {},
   "source": [
    "## Open and Read for Subset of HTML Sources"
   ]
  },
  {
   "cell_type": "code",
   "execution_count": 6,
   "metadata": {
    "ExecuteTime": {
     "end_time": "2020-06-18T19:32:06.885828Z",
     "start_time": "2020-06-18T19:32:06.856410Z"
    }
   },
   "outputs": [],
   "source": [
    "# Taking a nod from RealPython and using `os.scandir` which returns a generator object\n",
    "html_post = []\n",
    "with os.scandir(prj_home_data_dir) as i:\n",
    "    for entry in i:\n",
    "        if entry.is_file():\n",
    "            if entry.name.endswith('da_fccid.html'):\n",
    "                html_post.append(entry.name)"
   ]
  },
  {
   "cell_type": "code",
   "execution_count": 7,
   "metadata": {
    "ExecuteTime": {
     "end_time": "2020-06-18T19:32:07.758291Z",
     "start_time": "2020-06-18T19:32:07.731552Z"
    }
   },
   "outputs": [
    {
     "output_type": "execute_result",
     "data": {
      "text/plain": [
       "9"
      ]
     },
     "metadata": {},
     "execution_count": 7
    }
   ],
   "source": [
    "# The above used an artificial and bs limiter. How many file-entries of the 1337 did we capture?\n",
    "len(html_post)"
   ]
  },
  {
   "cell_type": "code",
   "execution_count": 8,
   "metadata": {
    "ExecuteTime": {
     "end_time": "2020-06-18T19:12:24.658456Z",
     "start_time": "2020-06-18T19:12:23.839708Z"
    },
    "tags": [
     "outputPrepend"
    ]
   },
   "outputs": [
    {
     "output_type": "stream",
     "name": "stdout",
     "text": [
      ", CISA, CISSP, CIA, CISM or related license/certification preferred\n\nValuation credentials such as CVA, ABV, AVA, or ASA preferred.\n\nAccounting, finance, and economics knowledge; proficiency in US GAAP and GAAS preferred.\n\nHighly analytical with expertise in financial analysis and modeling, econometrics, statistics, and regression analysis.\n\nAbility to manage multiple priorities and simultaneous project in a rapidly growing practice.\n\nStrong leadership, business development, recruitment, training, and mentoring skills\n\nExcellent written, presentation, leadership, and interpersonal communications skills.\n\nAbility to work additional hours and/or travel as needed.\n\nBENEFITS:\n\nFounded in Chicago in 1924, Grant Thornton LLP (Grant Thornton) is the U.S. member firm of Grant Thornton International Ltd, one of the world’s leading organizations of independent audit, tax and advisory firms. Grant Thornton has revenue in excess of $1.6 billion and operates 59 offices across the United States with more than 590 partners and 8,500+ employees in the U.S. and at our Shared Services Center in Bangalore, India.\n\n\nGrant Thornton works with a broad range of publicly and privately held companies, government agencies, financial institutions, and civic and religious organizations. Core industries served include consumer and industrial products, financial services, not-for-profit, private equity, and technology. Grant Thornton focuses on serving dynamic organizations that pursue growth holistically — whether through revenue improvement, leadership, mission fulfillment or innovation.\n\n\nIt is Grant Thornton’s policy to promote equal employment opportunities. All personnel decisions, including, but not limited to, recruiting, hiring, training, promotion, compensation, benefits and termination, are made without regard to race, creed, color, religion, national origin, sex, age, marital status, sexual orientation, gender identity, citizenship status, veteran status, disability or any other characteristic protected by applicable federal, state or local law.\n\n\n\n---\n\nNow reading item #4, posting file:14fc0fb5060f54da_fccid.html\n\n*Title: Data Analyst, Analytics and Research - Washington, DC 20036*\nData Analyst, Analytics and Research - Washington, DC 20036\n\n---\n\nNow reading item #5, posting file:d7895f9a3165e1da_fccid.html\n\n*Title: Member of Technical Staff, Security Engineer - San Francisco, CA*\nMember of Technical Staff, Security Engineer - San Francisco, CA\n\n---\n\nNow reading item #6, posting file:de8265294e0557da_fccid.html\n\n*Title: Machine Learning Engineer - Pleasanton, CA*\nMachine Learning Engineer - Pleasanton, CA\nJob Description:\n\nMasters or PhD in Computer Science, Electrical Engineering, Computer Science, Statistics/Mathematics, or related discipline.\n\n2+ years’ Experience with deep learning methods, including CNN, RNN, and etc.\n\n2+ years’ Experience with classical machine learning and statistical techniques, including regression, Bayesian methods, regularization, boosting, ensembles, support vector machines, etc.\n\nFamiliar with existing machine learning tools or libraries such as scikit-learn, numpy, scipy, pandas, liblinear, libsvm, etc.\n\nFamiliar with existing deep learning tools or libraries (Tensorflow, Keras, Torch, Theano, and/ or Caffe).\n\nSoftware languages – C/C++, Matlab\n\nKnowledge of imaging, signal processing, and computer vision would be a plus\n\nApton is looking for a Machine Learning Engineer to gather training data, run regressions and train, verify inferences and other related experiments. They will also support the development of Intellectual Property (e.g. patent application or kept as trade secret). The successful candidate will have demonstrated capability as a Software Engineer resulting in the successful commercial launch of products.\n\nMasters or PhD in Computer Science, Electrical Engineering, Computer Science, Statistics/Mathematics, or related discipline.\n\n2+ years’ Experience with deep learning methods, including CNN, RNN, and etc.\n\n2+ years’ Experience with classical machine learning and statistical techniques, including regression, Bayesian methods, regularization, boosting, ensembles, support vector machines, etc.\n\nFamiliar with existing machine learning tools or libraries such as scikit-learn, numpy, scipy, pandas, liblinear, libsvm, etc.\n\nFamiliar with existing deep learning tools or libraries (Tensorflow, Keras, Torch, Theano, and/ or Caffe).\n\nSoftware languages – C/C++, Matlab\n\nKnowledge of imaging, signal processing, and computer vision would be a plus\n\nRequired Qualifications:\n\nMasters or PhD in Computer Science, Electrical Engineering, Computer Science, Statistics/Mathematics, or related discipline.\n\n2+ years’ Experience with deep learning methods, including CNN, RNN, and etc.\n\n2+ years’ Experience with classical machine learning and statistical techniques, including regression, Bayesian methods, regularization, boosting, ensembles, support vector machines, etc.\n\nFamiliar with existing machine learning tools or libraries such as scikit-learn, numpy, scipy, pandas, liblinear, libsvm, etc.\n\nFamiliar with existing deep learning tools or libraries (Tensorflow, Keras, Torch, Theano, and/ or Caffe).\n\nSoftware languages – C/C++, Matlab\n\nKnowledge of imaging, signal processing, and computer vision would be a plus\n\nThe successful candidate will have:\n\nActively involved in technical discussion/presentation and provide input to other members from hardware, instrument control and system engineering teams.\n\nComfortable in an agile development environment\n\nSolid troubleshooting skills\n\nProven ability to effectively manage multiple activities simultaneously\n\nDemonstrated ability to drive data-based decision making\n\nInformation for recruiters\n\nApton Biosystems will only pay a fee for candidates submitted or presented where there is a signed recruiting agreement in place between Apton and the recruiter or agency prior to the submittal and the candidate is submitted for a specific requisition as requested by Apton. In the case of candidate(s) submitted or presented to Apton by a recruiter or agency without a signed agreement, Apton explicitly reserves the right to pursue and hire those candidate(s) without any financial obligation to the recruiter or agency.\n\n---\n\nNow reading item #7, posting file:4c761eabbc0d03da_fccid.html\n\n*Title: Short-Term Casual - New York, NY*\nShort-Term Casual - New York, NY\nPosition Summary\ndata collection,\ndata management and analysis,\nconducting literature reviews,\nassisting with grant and manuscript preparation, and\nperforming other duties as assigned.\n\nThe School of Nursing is looking to hire a Columbia University student to assist with a very important research project.\ndata collection,\ndata management and analysis,\nconducting literature reviews,\nassisting with grant and manuscript preparation, and\nperforming other duties as assigned.\n\ndata collection,\ndata management and analysis,\nconducting literature reviews,\nassisting with grant and manuscript preparation, and\nperforming other duties as assigned.\nResponsibilities\ndata collection,\ndata management and analysis,\nconducting literature reviews,\nassisting with grant and manuscript preparation, and\nperforming other duties as assigned.\n\nThe candidate will work with a team of researchers at Columbia Nursing. Specific duties will include:\ndata collection,\ndata management and analysis,\nconducting literature reviews,\nassisting with grant and manuscript preparation, and\nperforming other duties as assigned.\nThis position is grant funded and continued employment will be contingent upon the grant.\nBachelor’s degree or equivalent;\nMust have previous experience with social network analysis;\nMust possess strong analytical and writing skills;\nExperience with research projects;\nStrong attention to detail;\nExcellent organizational skills.\n\nBachelor’s degree or equivalent;\nMust have previous experience with social network analysis;\nMust possess strong analytical and writing skills;\nExperience with research projects;\nStrong attention to detail;\nExcellent organizational skills.\nMinimum Qualifications\nBachelor’s degree or equivalent;\nMust have previous experience with social network analysis;\nMust possess strong analytical and writing skills;\nExperience with research projects;\nStrong attention to detail;\nExcellent organizational skills.\n\nPreferred Qualifications\n\nA master's degree is preferred.\n\n\nEqual Opportunity Employer / Disability / Veteran\n\nColumbia University is committed to the hiring of qualified local residents.\nApplications open: Oct 08 2019 Eastern Daylight Time\nApplications close:\n\n---\n\nNow reading item #8, posting file:cd7b2c997014ebda_fccid.html\n\n*Title: Consumer Research Manager - Emeryville, CA 94608*\nConsumer Research Manager - Emeryville, CA 94608\nJob Details\n\nDescription\n\n\nDesign, build and maintain searchable library to democratize historical and ongoing catalog of insights, reports, etc.\n\nServe as syndicated data expert to help guide and train marketers in analytics\n\nTranslate business questions into best-in-class research plans\n\nDesign, execute, analyze custom quantitative research including ongoing brand equity tracking and perception metrics. Required analysis will include identifying and measuring business drivers via regression or similar data modeling techniques\n\nWork hand-in-hand with Brand and Sales to ensure business-driving insights are discovered and disseminated all the way to the customer (retailer)\n\nSynthesize data, create reports and present findings to internal (and potentially external) audiences with actionable recommendations\n\nDesign qualitative discussion guides and participate in field research\n\nIdentify and explore new/creative research methods to help define customer needs, explore innovation, optimize messaging and improve strategy\n\nLeverage existing partnerships, but also recommend new vendors or methodologies to continually improve our insights practice.\n\nHelp test product concepts, messaging, positioning, and packaging\n\nOversee consumer field work\n\nOptimize the value of our research investments through effective negotiation, asking the right questions, and providing thought leadership\n\nBachelor’s degree in Statistics, Psychology, Economics, Marketing, or a research-related field required\n\n7+ years of relevant research experience required\n\nExperience as a research supplier or in-house client within the Consumer-Packaged Goods (CPG) industry is preferred\n\nWorking knowledge of statistics and analytical methods including sampling, regression, conjoint, etc\n\nExperience and expertise using syndicated CPG data (Nielsen/IRI) for business analysis and effective story telling\n\nTrack record of demonstrating excellent command of research questions related to consumer behavior and of technical tools for the analysis of data\n\nExpertise with common research platforms and tools including Qualtrics and survey data analysis software is a must\n\nProven analytical ability and highly skilled in SPSS, Excel, and Powerpoint\n\nExcellent verbal presentation and written communication skills are required including the ability to make presentations to senior and executive management\n\nExperienced and productive collaborator\n\nAbility to travel within the United States. Requires some travel for field work\n\nPremier Nutrition Corporation (PNC) distributes nutritional food products to the health-conscious consumer under the brand names Premier Protein, PowerBar, Supreme Protein, and Joint Juice. With its people first culture, PNC treats employees with positivity and empathy and embraces new and innovative ideas that spark passion, personal growth, and a healthy dose of fun around the office. Bringing dogs to work, company-wide volunteer days, philanthropy and sustainability programs, in-office massages, walking meetings and workouts at the adjacent City Sports Club gym are just a few ways we help you increase your own good energy.\n\nWhat’s it like to work here? Picture the scrappy culture of a start-up, the innovativeness of a tech company, with the resources and systems of a respected consumer brand under the Post Holdings umbrella, and you should have a sense of what it feels like to work at PNC. You’ll walk into the brand-new Emeryville office each Monday morning and find a hundred of your colleagues sitting on sofas, overstuffed pillows, the floor, or beanbags talking through the week ahead and learning about each other.\n\nPNC seeks individuals who will thrive in this collaborative work environment and will help build our high-growth company. Our leadership principles capture the behaviors we aspire to and celebrate here—from ‘embodying a strategic mindset’ to ‘building people up’, each is a valuable tool in practicing leadership consistent with our values. We are Builders – looking for ways to challenge the status quo; Champions of Positive Nutrition - taking our role as health and nutrition seriously; Better Together – because we know that success is only achievable through our collective efforts; and we Ring the Bell, by celebrating big and small wins.\n\nPNC is part of the Active Nutrition segment and is operated by its own senior leadership team, with publicly traded Post Holdings, Inc. (FY 2018 sales of $6.3 billion) as a parent company acting in a “private equity” capacity. Post Holdings’ Active Nutrition segment is a leader in providing innovative products that support healthy, active lifestyles with over $800 million in sales. Premier Nutrition utilizes a third-party network for manufacturing, warehousing, and distribution. Post Holdings is comprised of the Active Nutrition portfolio, which includes PNC, Dymatize, and Active Nutrition International (protein bars, shakes and powder products), Post Consumer Brands (cereals), Michael Foods (eggs, potato, cheese, and pasta), Weetabix (cereals), private label business groups, and Bob Evans Farms (a leader in frozen breakfast meats and vegetables).\n\nGENERAL SUMMARY:\n\nThe Consumer Research Manager is responsible for executing and managing marketing research across all Premier Nutrition brands using creativity and a wide variety of qualitative and quantitative methodologies. This role will expand and reinforce PNC’s data-driven high-growth culture as an internal expert in designing, conducting, analyzing, and synthesizing consumer research. Because people are at the center of everything we do, the Research Manager will produce in-house primary research and will also work with outside research agencies to ensure the voices of consumers are heard. This role is integrated with Brand Management and Innovation and reports to Director of Research and Insights.\n\nJOB RESPONSIBILITIES:\n\nConducting, analyzing and archiving marketing research: 80% of TIME\n\nWorking with research partners and suppliers: 20% of TIME\n\nQUALIFICATIONS:\n\nEducation:\n\nExperience:\n\nSkills:\n\n\nPost Holdings provides equal employment opportunities to all employees and applicants for employment without regard to race, color, religion, gender, sexual orientation, national origin, age, disability, genetic information, marital status, status as a covered veteran and any other category protected under applicable federal, state, provincial and local laws.\n\n\nEqual Opportunity Employer/Protected Veterans/Individuals with Disabilities\n\nThe contractor will not discharge or in any other manner discriminate against employees or applicants because they have inquired about, discussed, or disclosed their own pay or the pay of another employee or applicant. However, employees who have access to the compensation information of other employees or applicants as a part of their essential job functions cannot disclose the pay of other employees or applicants to individuals who do not otherwise have access to compensation information, unless the disclosure is (a) in response to a formal complaint or charge, (b) in furtherance of an investigation, proceeding, hearing, or action, including an investigation conducted by the employer, or (c) consistent with the contractor’s legal duty to furnish information. 41 CFR 60-1.35(c)\n\n---\n\nNow reading item #9, posting file:30f4b3fc42fce0da_fccid.html\n\n*Title: Data Scientist - Sunnyvale, CA*\nData Scientist - Sunnyvale, CA\nWhy you should join:\nPlease email jobs@letslinc.com if you are interested.\nJoin us in building the best ecommerce SaaS platform to revolutionize how retailers and brand engage with shoppers for post-purchase activities and more. Linc is looking for data scientists who are passionate about applying AI to revolutionize the customer care industry, who thrive on challenges and who believe in success through collaboration – people who would complement our existing team of world class developers! We offer a fun, dynamic and result-driven environment. If scale and complexity in a high growth startup excite you, Linc is the right place to be.\nResponsible for one or more ML related application areas: Natural Language Understanding, Dialog System, Statistical NLP, Contextual Understanding, Probabilistic Inferencing/Reasoning, Reinforcement learning, Product Recommendation\nAbout Linc:\nResponsible for one or more ML related application areas: Natural Language Understanding, Dialog System, Statistical NLP, Contextual Understanding, Probabilistic Inferencing/Reasoning, Reinforcement learning, Product Recommendation\n\nLinc is an AI-powered Customer Care Automation Platform that transforms one time purchasers into lifetime customers through a better than Amazon experience around tracking, returns, exchanges, and reordering. We also allow retailers to re-target and offer cross sells and upsells based on purchase history rather than browser history. We make this available to e-retailer or brand client via a number of channels including; web, email, text, and the emerging channels of Facebook Messenger and Voice. The end result is higher shopper retention rates and a higher lifetime value with those clients.\nResponsible for one or more ML related application areas: Natural Language Understanding, Dialog System, Statistical NLP, Contextual Understanding, Probabilistic Inferencing/Reasoning, Reinforcement learning, Product Recommendation\n\nAs a fast growing startup, Linc has delighted tens millions of shoppers, and customer list includes world-class brands like Carter’s, P&G, Crocs, GoPro, Hugo Boss, eBags, and L’Oreal. Learn more at letslinc.com.\nResponsible for one or more ML related application areas: Natural Language Understanding, Dialog System, Statistical NLP, Contextual Understanding, Probabilistic Inferencing/Reasoning, Reinforcement learning, Product Recommendation\nResponsibility:\nResponsible for one or more ML related application areas: Natural Language Understanding, Dialog System, Statistical NLP, Contextual Understanding, Probabilistic Inferencing/Reasoning, Reinforcement learning, Product Recommendation\nKey Qualifications:\nPhD program in Computer Science, Mathematics or a related field with demonstrated academic excellence\n\nAcademic background in deep learning, natural language processing, machine learning\n5+ years of programming experience, proficiency in Python, JAVA, Scala or R\nStrong knowledge in general software design, data structures, and relational database\nStrong written and oral communication skills\nStrong analytical skills, data driven mindset\nDesired:\nHuge plus with experience in spoken dialog system, chatbot and reinforcement learning\n\n2+ years of hands-on cloud platform experience: AWS or Azure\n\nPrevious experience working in a start-up environment\n\nExperience with Ecommerce space, knowledge of product taxonomy building\nExperience with NLP toolkits such as NLTK, OpenNLP, Stanford CoreNLP etc.\n\nExperience with open source machine learning toolkits: tensorflow, CNTK, scikit-learn, pandas, numpy, libsvm, keras\nPerks\nWe will sponsor Visas\nFull medical and dental coverage\nCompany provided lunches and close to downtown Sunnyvale\nKnowledge sharing sessions with some of Silicon Valley’s best minds\n\n---\n\n"
     ]
    }
   ],
   "source": [
    "counter = 0\n",
    "for i in html_post:\n",
    "    counter += 1\n",
    "    print(f\"Now reading item #{counter}, posting file:{i}\\n\")\n",
    "    # Load/Soup\n",
    "    soup = BeautifulSoup(open(os.path.join(prj_home_data_dir, i)), \"lxml\")\n",
    "    print(f\"*Title: \" + soup.title.text + \"*\") # can has element 'title' \n",
    "    headers = soup.find_all(['h1', 'h2', 'h3', 'h4', 'h5']) # can has elements 'header\\x\\'\n",
    "    for header_item in headers:\n",
    "        print(header_item.get_text())\n",
    "    # uls = header_item.find_next('ul') # can has none to every elements 'ul'\n",
    "    # if header_item.find_next('ul') != None:\n",
    "        # for list_item in uls.find_all('li'):\n",
    "            # print(list_item.text)\n",
    "    paras = soup.find_all('p') # can has none to every elements 'p'\n",
    "    for p_item in paras:\n",
    "        print(p_item.text)\n",
    "        uls = p_item.find_next('ul')\n",
    "        if p_item.find_next('ul') != None:\n",
    "            for li_item in uls.find_all('li'):\n",
    "                print(li_item.text)    \n",
    "    print(f\"\\n---\\n\")"
   ]
  },
  {
   "cell_type": "markdown",
   "metadata": {},
   "source": [
    "### Keep going–can get metrics from the selected page?"
   ]
  },
  {
   "cell_type": "code",
   "execution_count": 9,
   "metadata": {
    "ExecuteTime": {
     "end_time": "2020-06-18T20:54:26.947148Z",
     "start_time": "2020-06-18T20:54:26.881852Z"
    }
   },
   "outputs": [
    {
     "output_type": "stream",
     "name": "stdout",
     "text": [
      "\"\"\" Now reading item #1, posting file:3157fcef3ee474da_fccid.html \"\"\"\nPage Title: Data Scientist - Mountain View, CA\nFound 1 header elements\n  First: Data Scientist - Mountain View, CA\n\n---\n\n\"\"\" Now reading item #2, posting file:51aab4724bb38ada_fccid.html \"\"\"\nPage Title: Data Analyst I - San Diego, CA 92121\nFound 11 header elements\n  First: Data Analyst I - San Diego, CA 92121\n  Last: Job Family:\n\n---\n\n\"\"\" Now reading item #3, posting file:f41a6612c58a80da_fccid.html \"\"\"\nPage Title: Financial Advisory Services Valuation Senior Associate - New York, NY 10017\nFound 1 header elements\n  First: Financial Advisory Services Valuation Senior Associate - New York, NY 10017\n\n---\n\n\"\"\" Now reading item #4, posting file:14fc0fb5060f54da_fccid.html \"\"\"\nPage Title: Data Analyst, Analytics and Research - Washington, DC 20036\nFound 1 header elements\n  First: Data Analyst, Analytics and Research - Washington, DC 20036\n\n---\n\n\"\"\" Now reading item #5, posting file:d7895f9a3165e1da_fccid.html \"\"\"\nPage Title: Member of Technical Staff, Security Engineer - San Francisco, CA\nFound 1 header elements\n  First: Member of Technical Staff, Security Engineer - San Francisco, CA\n\n---\n\n\"\"\" Now reading item #6, posting file:de8265294e0557da_fccid.html \"\"\"\nPage Title: Machine Learning Engineer - Pleasanton, CA\nFound 1 header elements\n  First: Machine Learning Engineer - Pleasanton, CA\n\n---\n\n\"\"\" Now reading item #7, posting file:4c761eabbc0d03da_fccid.html \"\"\"\nPage Title: Short-Term Casual - New York, NY\nFound 1 header elements\n  First: Short-Term Casual - New York, NY\n\n---\n\n\"\"\" Now reading item #8, posting file:cd7b2c997014ebda_fccid.html \"\"\"\nPage Title: Consumer Research Manager - Emeryville, CA 94608\nFound 3 header elements\n  First: Consumer Research Manager - Emeryville, CA 94608\n  Last: Description\n\n---\n\n\"\"\" Now reading item #9, posting file:30f4b3fc42fce0da_fccid.html \"\"\"\nPage Title: Data Scientist - Sunnyvale, CA\nFound 3 header elements\n  First: Data Scientist - Sunnyvale, CA\n  Last: Please email jobs@letslinc.com if you are interested.\n\n---\n\n"
     ]
    }
   ],
   "source": [
    "counter = 0\n",
    "for i in html_post:\n",
    "    counter += 1\n",
    "    print(f'\\\"\\\"\\\" Now reading item #{counter}, posting file:{i} \\\"\\\"\\\"')\n",
    "    # Load/Soup\n",
    "    soup = BeautifulSoup(open(os.path.join(prj_home_data_dir, i)), \"lxml\")\n",
    "    print(f'Page Title: ' + soup.title.get_text()) # can has el 'title'\n",
    "    header_rows = []\n",
    "    headers = soup.find_all(['h{}'.format(i) for i in range(1,7)]) # skip doing a regex, return el 'header' 1-6\n",
    "    print(f'Found {len(headers)} header elements')\n",
    "    for el_h in headers:\n",
    "        header_rows.append(el_h.text.strip())\n",
    "    \n",
    "    print(f\"  First: \" + header_rows[0])\n",
    "    \n",
    "    if len(headers) > 1:\n",
    "        print(f\"  Last: \" + header_rows[-1])\n",
    "    \n",
    "    print(f\"\\n---\\n\")    "
   ]
  },
  {
   "cell_type": "markdown",
   "metadata": {},
   "source": [
    "## Soup to Pandas\n"
   ]
  },
  {
   "cell_type": "code",
   "execution_count": 10,
   "metadata": {},
   "outputs": [],
   "source": [
    "def convert_html_pages_to_dataframe(html_pages_dir):\n",
    "    \"\"\"Extract title, body, and bullet points (neé needs/wants) from HTML-formatted job postings.\n",
    "    Return a Pandas dataframe with a column for those items.\n",
    "    \"\"\"\n",
    "    html_posts = []\n",
    "    with os.scandir(html_pages_dir) as i:\n",
    "        for entry in i:\n",
    "            if entry.is_file() & entry.name.endswith('.html'):\n",
    "                    html_posts.append(entry.name)    \n",
    "\n",
    "    # Python dictionary to Pandas DataFrame is preferred\n",
    "    html_dict = {}\n",
    "    for key in ['title', 'body', 'bullets']:\n",
    "        html_dict[key] = []\n",
    "\n",
    "    for html in html_posts:\n",
    "        soup = BeautifulSoup(open(os.path.join(html_pages_dir, html)), \"lxml\")\n",
    "        title = soup.find('title').getText()\n",
    "        body = soup.find('body').getText()\n",
    "        bullets = soup.find_all('li')\n",
    "        \n",
    "        html_dict['title'].append(title)\n",
    "        html_dict['body'].append(body)\n",
    "        # bullets will be stripped of leading and trailing whitespace\n",
    "        html_dict['bullets'].append([b.text.strip() for b in bullets])\n",
    "\n",
    "    df = pd.DataFrame(html_dict)\n",
    "\n",
    "    return df"
   ]
  },
  {
   "cell_type": "code",
   "execution_count": 11,
   "metadata": {
    "tags": []
   },
   "outputs": [],
   "source": [
    "df = convert_html_pages_to_dataframe(prj_home_data_dir)"
   ]
  },
  {
   "cell_type": "code",
   "execution_count": 12,
   "metadata": {},
   "outputs": [
    {
     "output_type": "execute_result",
     "data": {
      "text/plain": [
       "                                               title  \\\n",
       "0            Quantitative Analyst - Boston, MA 02116   \n",
       "1                 Data Scientist - Mountain View, CA   \n",
       "2                       Data Scientist - Seattle, WA   \n",
       "3  Senior Natural Language Processing (NLP) Engin...   \n",
       "4  FLEXO FOLDER GLUER OPER - McClellan, CA - McCl...   \n",
       "5     Junior Data Scientist - College Park, MD 20740   \n",
       "6                      Data Scientist - New York, NY   \n",
       "7  Business Analyst - Medical Claims Data Project...   \n",
       "8         (Entry-Level) Data Scientist - Chicago, IL   \n",
       "9      Data Scientist, Analytics - Seattle, WA 98101   \n",
       "\n",
       "                                                body  \\\n",
       "0  Quantitative Analyst - Boston, MA 02116\\nQuant...   \n",
       "1  Data Scientist - Mountain View, CA\\nGroundTrut...   \n",
       "2  Data Scientist - Seattle, WA\\nA Bachelor or Ma...   \n",
       "3  Senior Natural Language Processing (NLP) Engin...   \n",
       "4  FLEXO FOLDER GLUER OPER - McClellan, CA - McCl...   \n",
       "5  Junior Data Scientist - College Park, MD 20740...   \n",
       "6  Data Scientist - New York, NY\\nDescription\\nDS...   \n",
       "7  Business Analyst - Medical Claims Data Project...   \n",
       "8  (Entry-Level) Data Scientist - Chicago, IL\\nDa...   \n",
       "9  Data Scientist, Analytics - Seattle, WA 98101\\...   \n",
       "\n",
       "                                             bullets  \n",
       "0                                                 []  \n",
       "1  [Help senior members of the team to explore, d...  \n",
       "2  [A Bachelor or Masters Degree in a highly quan...  \n",
       "3  [Join a small team creating a proprietary NLU ...  \n",
       "4                                                 []  \n",
       "5  [Degree: Bachelor’s degree in business analyti...  \n",
       "6  [Languages: Python, PySpark, SQL, Data Tools: ...  \n",
       "7  [Highly developed analytical skills, Mastery o...  \n",
       "8  [Be the go-to person for Data ingest and stora...  \n",
       "9  [Apply your expertise in quantitative analysis...  "
      ],
      "text/html": "<div>\n<style scoped>\n    .dataframe tbody tr th:only-of-type {\n        vertical-align: middle;\n    }\n\n    .dataframe tbody tr th {\n        vertical-align: top;\n    }\n\n    .dataframe thead th {\n        text-align: right;\n    }\n</style>\n<table border=\"1\" class=\"dataframe\">\n  <thead>\n    <tr style=\"text-align: right;\">\n      <th></th>\n      <th>title</th>\n      <th>body</th>\n      <th>bullets</th>\n    </tr>\n  </thead>\n  <tbody>\n    <tr>\n      <th>0</th>\n      <td>Quantitative Analyst - Boston, MA 02116</td>\n      <td>Quantitative Analyst - Boston, MA 02116\\nQuant...</td>\n      <td>[]</td>\n    </tr>\n    <tr>\n      <th>1</th>\n      <td>Data Scientist - Mountain View, CA</td>\n      <td>Data Scientist - Mountain View, CA\\nGroundTrut...</td>\n      <td>[Help senior members of the team to explore, d...</td>\n    </tr>\n    <tr>\n      <th>2</th>\n      <td>Data Scientist - Seattle, WA</td>\n      <td>Data Scientist - Seattle, WA\\nA Bachelor or Ma...</td>\n      <td>[A Bachelor or Masters Degree in a highly quan...</td>\n    </tr>\n    <tr>\n      <th>3</th>\n      <td>Senior Natural Language Processing (NLP) Engin...</td>\n      <td>Senior Natural Language Processing (NLP) Engin...</td>\n      <td>[Join a small team creating a proprietary NLU ...</td>\n    </tr>\n    <tr>\n      <th>4</th>\n      <td>FLEXO FOLDER GLUER OPER - McClellan, CA - McCl...</td>\n      <td>FLEXO FOLDER GLUER OPER - McClellan, CA - McCl...</td>\n      <td>[]</td>\n    </tr>\n    <tr>\n      <th>5</th>\n      <td>Junior Data Scientist - College Park, MD 20740</td>\n      <td>Junior Data Scientist - College Park, MD 20740...</td>\n      <td>[Degree: Bachelor’s degree in business analyti...</td>\n    </tr>\n    <tr>\n      <th>6</th>\n      <td>Data Scientist - New York, NY</td>\n      <td>Data Scientist - New York, NY\\nDescription\\nDS...</td>\n      <td>[Languages: Python, PySpark, SQL, Data Tools: ...</td>\n    </tr>\n    <tr>\n      <th>7</th>\n      <td>Business Analyst - Medical Claims Data Project...</td>\n      <td>Business Analyst - Medical Claims Data Project...</td>\n      <td>[Highly developed analytical skills, Mastery o...</td>\n    </tr>\n    <tr>\n      <th>8</th>\n      <td>(Entry-Level) Data Scientist - Chicago, IL</td>\n      <td>(Entry-Level) Data Scientist - Chicago, IL\\nDa...</td>\n      <td>[Be the go-to person for Data ingest and stora...</td>\n    </tr>\n    <tr>\n      <th>9</th>\n      <td>Data Scientist, Analytics - Seattle, WA 98101</td>\n      <td>Data Scientist, Analytics - Seattle, WA 98101\\...</td>\n      <td>[Apply your expertise in quantitative analysis...</td>\n    </tr>\n  </tbody>\n</table>\n</div>"
     },
     "metadata": {},
     "execution_count": 12
    },
    {
     "output_type": "execute_result",
     "data": {
      "text/plain": [
       "(1337, 3)"
      ]
     },
     "metadata": {},
     "execution_count": 12
    }
   ],
   "source": [
    "df.head(10)\n",
    "df.shape"
   ]
  },
  {
   "cell_type": "markdown",
   "metadata": {},
   "source": [
    "\n",
    "## Drop Dupes\n",
    "Our HTML pages dump may contain duplicate postings collected from different sites (or perhaps a job re-posting). The dataframe has the full post-body, so use that for an initial de-duplicate operation."
   ]
  },
  {
   "source": [
    "Per [DataFrame.duplicated()](https://pandas.pydata.org/pandas-docs/stable/generated/pandas.DataFrame.duplicated.html), we can reason about the duplicates where:\n",
    "\n",
    "**subset**: the column label or a sequence of labels, default is \"all\"\n",
    "\n",
    "**keep**: how to mark duplicates {'first', 'last', False}\n",
    "\n",
    "* _first_: Mark duplicates as True except for the first occurence\n",
    "\n",
    "* _last_: Mark duplicates as True except for the last occurence\n",
    "    \n",
    "* _False_: Mark all duplicates as True"
   ],
   "cell_type": "markdown",
   "metadata": {}
  },
  {
   "cell_type": "code",
   "execution_count": 24,
   "metadata": {},
   "outputs": [
    {
     "output_type": "execute_result",
     "data": {
      "text/plain": [
       "9"
      ]
     },
     "metadata": {},
     "execution_count": 24
    }
   ],
   "source": [
    "df.duplicated(subset=['title', 'body'], keep='first').sum()"
   ]
  },
  {
   "cell_type": "code",
   "execution_count": 25,
   "metadata": {},
   "outputs": [],
   "source": [
    "df_simple_dedupe = df.drop_duplicates(subset=['title', 'body'])"
   ]
  },
  {
   "cell_type": "code",
   "execution_count": 26,
   "metadata": {},
   "outputs": [
    {
     "output_type": "execute_result",
     "data": {
      "text/plain": [
       "(1328, 3)"
      ]
     },
     "metadata": {},
     "execution_count": 26
    }
   ],
   "source": [
    "df_simple_dedupe.shape"
   ]
  },
  {
   "source": [
    "## Filter for Data Science Postings"
   ],
   "cell_type": "markdown",
   "metadata": {}
  },
  {
   "cell_type": "code",
   "execution_count": 27,
   "metadata": {},
   "outputs": [],
   "source": [
    "# Create a useful match-group for jobs we are looking to find\n",
    "job_regex = r'(?:data.*(?:scien|engineer|analy))|(?:natural language|statistic|machine learn)'\n",
    "df_final = df_simple_dedupe[df_simple_dedupe['body'].str.contains(job_regex, na = False, case = False)]"
   ]
  },
  {
   "cell_type": "code",
   "execution_count": 28,
   "metadata": {},
   "outputs": [
    {
     "output_type": "execute_result",
     "data": {
      "text/plain": [
       "                                                  title  \\\n",
       "0               Quantitative Analyst - Boston, MA 02116   \n",
       "1                    Data Scientist - Mountain View, CA   \n",
       "2                          Data Scientist - Seattle, WA   \n",
       "3     Senior Natural Language Processing (NLP) Engin...   \n",
       "5        Junior Data Scientist - College Park, MD 20740   \n",
       "...                                                 ...   \n",
       "1332              Data Scientist - Birmingham, AL 35233   \n",
       "1333                  Senior Data Scientist - Tempe, AZ   \n",
       "1334  New College Grad - Cybersecurity (Masters Degr...   \n",
       "1335  Decision Science Manager, Media Mix Modeling -...   \n",
       "1336                      Data Scientist - Bellevue, WA   \n",
       "\n",
       "                                                   body  \\\n",
       "0     Quantitative Analyst - Boston, MA 02116\\nQuant...   \n",
       "1     Data Scientist - Mountain View, CA\\nGroundTrut...   \n",
       "2     Data Scientist - Seattle, WA\\nA Bachelor or Ma...   \n",
       "3     Senior Natural Language Processing (NLP) Engin...   \n",
       "5     Junior Data Scientist - College Park, MD 20740...   \n",
       "...                                                 ...   \n",
       "1332  Data Scientist - Birmingham, AL 35233\\nSUMMARY...   \n",
       "1333  Senior Data Scientist - Tempe, AZ\\nCircle K is...   \n",
       "1334  New College Grad - Cybersecurity (Masters Degr...   \n",
       "1335  Decision Science Manager, Media Mix Modeling -...   \n",
       "1336  Data Scientist - Bellevue, WA\\nExperienced in ...   \n",
       "\n",
       "                                                bullets  \n",
       "0                                                    []  \n",
       "1     [Help senior members of the team to explore, d...  \n",
       "2     [A Bachelor or Masters Degree in a highly quan...  \n",
       "3     [Join a small team creating a proprietary NLU ...  \n",
       "5     [Degree: Bachelor’s degree in business analyti...  \n",
       "...                                                 ...  \n",
       "1332                                                 []  \n",
       "1333  [Independently develop advanced analytics and ...  \n",
       "1334  [Advanced Degree (e.g. Masters, MBA, JD, MD, o...  \n",
       "1335  [As a Decision Science Manager for media mix m...  \n",
       "1336  [Experienced in handling large data sets using...  \n",
       "\n",
       "[1193 rows x 3 columns]"
      ],
      "text/html": "<div>\n<style scoped>\n    .dataframe tbody tr th:only-of-type {\n        vertical-align: middle;\n    }\n\n    .dataframe tbody tr th {\n        vertical-align: top;\n    }\n\n    .dataframe thead th {\n        text-align: right;\n    }\n</style>\n<table border=\"1\" class=\"dataframe\">\n  <thead>\n    <tr style=\"text-align: right;\">\n      <th></th>\n      <th>title</th>\n      <th>body</th>\n      <th>bullets</th>\n    </tr>\n  </thead>\n  <tbody>\n    <tr>\n      <th>0</th>\n      <td>Quantitative Analyst - Boston, MA 02116</td>\n      <td>Quantitative Analyst - Boston, MA 02116\\nQuant...</td>\n      <td>[]</td>\n    </tr>\n    <tr>\n      <th>1</th>\n      <td>Data Scientist - Mountain View, CA</td>\n      <td>Data Scientist - Mountain View, CA\\nGroundTrut...</td>\n      <td>[Help senior members of the team to explore, d...</td>\n    </tr>\n    <tr>\n      <th>2</th>\n      <td>Data Scientist - Seattle, WA</td>\n      <td>Data Scientist - Seattle, WA\\nA Bachelor or Ma...</td>\n      <td>[A Bachelor or Masters Degree in a highly quan...</td>\n    </tr>\n    <tr>\n      <th>3</th>\n      <td>Senior Natural Language Processing (NLP) Engin...</td>\n      <td>Senior Natural Language Processing (NLP) Engin...</td>\n      <td>[Join a small team creating a proprietary NLU ...</td>\n    </tr>\n    <tr>\n      <th>5</th>\n      <td>Junior Data Scientist - College Park, MD 20740</td>\n      <td>Junior Data Scientist - College Park, MD 20740...</td>\n      <td>[Degree: Bachelor’s degree in business analyti...</td>\n    </tr>\n    <tr>\n      <th>...</th>\n      <td>...</td>\n      <td>...</td>\n      <td>...</td>\n    </tr>\n    <tr>\n      <th>1332</th>\n      <td>Data Scientist - Birmingham, AL 35233</td>\n      <td>Data Scientist - Birmingham, AL 35233\\nSUMMARY...</td>\n      <td>[]</td>\n    </tr>\n    <tr>\n      <th>1333</th>\n      <td>Senior Data Scientist - Tempe, AZ</td>\n      <td>Senior Data Scientist - Tempe, AZ\\nCircle K is...</td>\n      <td>[Independently develop advanced analytics and ...</td>\n    </tr>\n    <tr>\n      <th>1334</th>\n      <td>New College Grad - Cybersecurity (Masters Degr...</td>\n      <td>New College Grad - Cybersecurity (Masters Degr...</td>\n      <td>[Advanced Degree (e.g. Masters, MBA, JD, MD, o...</td>\n    </tr>\n    <tr>\n      <th>1335</th>\n      <td>Decision Science Manager, Media Mix Modeling -...</td>\n      <td>Decision Science Manager, Media Mix Modeling -...</td>\n      <td>[As a Decision Science Manager for media mix m...</td>\n    </tr>\n    <tr>\n      <th>1336</th>\n      <td>Data Scientist - Bellevue, WA</td>\n      <td>Data Scientist - Bellevue, WA\\nExperienced in ...</td>\n      <td>[Experienced in handling large data sets using...</td>\n    </tr>\n  </tbody>\n</table>\n<p>1193 rows × 3 columns</p>\n</div>"
     },
     "metadata": {},
     "execution_count": 28
    }
   ],
   "source": [
    "df_final"
   ]
  },
  {
   "cell_type": "code",
   "execution_count": 29,
   "metadata": {},
   "outputs": [
    {
     "output_type": "execute_result",
     "data": {
      "text/plain": [
       "(1193, 3)"
      ]
     },
     "metadata": {},
     "execution_count": 29
    }
   ],
   "source": [
    "df_final.shape"
   ]
  },
  {
   "source": [
    "## Pickle Results"
   ],
   "cell_type": "markdown",
   "metadata": {}
  },
  {
   "cell_type": "code",
   "execution_count": null,
   "metadata": {},
   "outputs": [],
   "source": [
    "my_pickle = 'jobs_pkl'\n",
    "# pickle.dump(df_final, open(os.path.join(prj_home_output_dir, my_pickle), \"wb\" ))\n",
    "df_final.to_pickle(os.path.join(prj_home_output_dir, my_pickle))"
   ]
  },
  {
   "cell_type": "code",
   "execution_count": null,
   "metadata": {},
   "outputs": [],
   "source": []
  }
 ],
 "metadata": {
  "kernelspec": {
   "display_name": "Python 3.7.6 64-bit ('job-posting-nlp': conda)",
   "language": "python",
   "name": "python37664bitjobpostingnlpconda3fb0dd44090345c5858ed733fad6da5f"
  },
  "language_info": {
   "codemirror_mode": {
    "name": "ipython",
    "version": 3
   },
   "file_extension": ".py",
   "mimetype": "text/x-python",
   "name": "python",
   "nbconvert_exporter": "python",
   "pygments_lexer": "ipython3",
   "version": "3.7.6-final"
  }
 },
 "nbformat": 4,
 "nbformat_minor": 4
}